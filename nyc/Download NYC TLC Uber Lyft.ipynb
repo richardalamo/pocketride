{
 "cells": [
  {
   "cell_type": "markdown",
   "id": "a69d9fa8-6105-453a-8bff-fb4f3498dfda",
   "metadata": {},
   "source": [
    "# Download NYC TLC Uber Lyft"
   ]
  },
  {
   "cell_type": "markdown",
   "id": "263d8792-5eab-4efa-b503-f4e230baf92f",
   "metadata": {},
   "source": [
    "## Imports"
   ]
  },
  {
   "cell_type": "code",
   "execution_count": 1,
   "id": "095a4749-408c-44bf-afcc-1199d5bfd94f",
   "metadata": {},
   "outputs": [],
   "source": [
    "import pandas as pd\n",
    "\n",
    "# these two imports are for the get_DataFrame function\n",
    "import os\n",
    "import urllib.request"
   ]
  },
  {
   "cell_type": "code",
   "execution_count": 2,
   "id": "ad548cba-45c8-4561-afb1-6b3e40139546",
   "metadata": {},
   "outputs": [],
   "source": [
    "def get_DataFrame(file_name, local_path='data/'):\n",
    "    \"\"\"\n",
    "    Tries to load a Parquet file from a local path.\n",
    "    If the file is not found, downloads it from TLC's cloudfront URL and saves it locally.\n",
    "    \n",
    "    Parameters:\n",
    "    - file_name (str): Name of the file to load/download (e.g., 'yellow_tripdata_2024-07.parquet').\n",
    "    - local_path (str): Path to the local directory where the file is stored or will be saved. Default is 'data/'.\n",
    "    \n",
    "    Returns:\n",
    "    - pd.DataFrame: DataFrame containing the data from the Parquet file.\n",
    "    \"\"\"\n",
    "    # Ensure the local path exists\n",
    "    os.makedirs(local_path, exist_ok=True)\n",
    "\n",
    "    # Construct file paths\n",
    "    local_file = os.path.join(local_path, file_name)\n",
    "    tlc_url = f\"https://d37ci6vzurychx.cloudfront.net/trip-data/{file_name}\"\n",
    "\n",
    "    try:\n",
    "        # Try reading the file from the local path\n",
    "        print(f\"Trying to load {file_name} from {local_file}\")\n",
    "        df = pd.read_parquet(local_file)\n",
    "        return df\n",
    "\n",
    "    except FileNotFoundError:\n",
    "        print(f\"{file_name} not found locally. Attempting to download from {tlc_url}\")\n",
    "\n",
    "        # Download the file from TLC's cloudfront URL\n",
    "        try:\n",
    "            urllib.request.urlretrieve(tlc_url, local_file)\n",
    "            print(f\"Downloaded {file_name} to {local_file}\")\n",
    "            # Load the downloaded file\n",
    "            df = pd.read_parquet(local_file)\n",
    "            return df\n",
    "        except Exception as e:\n",
    "            print(f\"Failed to download {file_name}: {e}\")\n",
    "            raise"
   ]
  },
  {
   "cell_type": "code",
   "execution_count": 3,
   "id": "c0b3ff70-8c56-4273-ba71-3d561d7138a2",
   "metadata": {},
   "outputs": [],
   "source": [
    "jan_2023 = 'fhvhv_tripdata_2023-01.parquet'\n",
    "feb_2023 = 'fhvhv_tripdata_2023-02.parquet'\n",
    "mar_2023 = 'fhvhv_tripdata_2023-03.parquet'\n",
    "apr_2023 = 'fhvhv_tripdata_2023-04.parquet'\n",
    "may_2023 = 'fhvhv_tripdata_2023-05.parquet'\n",
    "jun_2023 = 'fhvhv_tripdata_2023-06.parquet'\n",
    "jul_2023 = 'fhvhv_tripdata_2023-07.parquet'\n",
    "aug_2023 = 'fhvhv_tripdata_2023-08.parquet'\n",
    "sep_2023 = 'fhvhv_tripdata_2023-09.parquet'\n",
    "oct_2023 = 'fhvhv_tripdata_2023-10.parquet'\n",
    "nov_2023 = 'fhvhv_tripdata_2023-11.parquet'\n",
    "dec_2023 = 'fhvhv_tripdata_2023-12.parquet'\n",
    "\n",
    "jan_2024 = 'fhvhv_tripdata_2024-01.parquet'\n",
    "feb_2024 = 'fhvhv_tripdata_2024-02.parquet'\n",
    "mar_2024 = 'fhvhv_tripdata_2024-03.parquet'\n",
    "apr_2024 = 'fhvhv_tripdata_2024-04.parquet'\n",
    "may_2024 = 'fhvhv_tripdata_2024-05.parquet'\n",
    "jun_2024 = 'fhvhv_tripdata_2024-06.parquet'\n",
    "jul_2024 = 'fhvhv_tripdata_2024-07.parquet'"
   ]
  },
  {
   "cell_type": "code",
   "execution_count": 4,
   "id": "e509b517-f0aa-4fdf-a50e-0293c8c31e43",
   "metadata": {},
   "outputs": [
    {
     "name": "stdout",
     "output_type": "stream",
     "text": [
      "Trying to load fhvhv_tripdata_2024-01.parquet from data/fhvhv_tripdata_2024-01.parquet\n",
      "<class 'pandas.core.frame.DataFrame'>\n",
      "RangeIndex: 19663930 entries, 0 to 19663929\n",
      "Data columns (total 24 columns):\n",
      " #   Column                Dtype         \n",
      "---  ------                -----         \n",
      " 0   hvfhs_license_num     object        \n",
      " 1   dispatching_base_num  object        \n",
      " 2   originating_base_num  object        \n",
      " 3   request_datetime      datetime64[us]\n",
      " 4   on_scene_datetime     datetime64[us]\n",
      " 5   pickup_datetime       datetime64[us]\n",
      " 6   dropoff_datetime      datetime64[us]\n",
      " 7   PULocationID          int32         \n",
      " 8   DOLocationID          int32         \n",
      " 9   trip_miles            float64       \n",
      " 10  trip_time             int64         \n",
      " 11  base_passenger_fare   float64       \n",
      " 12  tolls                 float64       \n",
      " 13  bcf                   float64       \n",
      " 14  sales_tax             float64       \n",
      " 15  congestion_surcharge  float64       \n",
      " 16  airport_fee           float64       \n",
      " 17  tips                  float64       \n",
      " 18  driver_pay            float64       \n",
      " 19  shared_request_flag   object        \n",
      " 20  shared_match_flag     object        \n",
      " 21  access_a_ride_flag    object        \n",
      " 22  wav_request_flag      object        \n",
      " 23  wav_match_flag        object        \n",
      "dtypes: datetime64[us](4), float64(9), int32(2), int64(1), object(8)\n",
      "memory usage: 3.4+ GB\n"
     ]
    }
   ],
   "source": [
    "test = get_DataFrame(jan_2024)\n",
    "test.info()"
   ]
  },
  {
   "cell_type": "code",
   "execution_count": 5,
   "id": "6cb4ef7c-02a0-4ec2-aca8-ad2665e6935f",
   "metadata": {},
   "outputs": [
    {
     "name": "stdout",
     "output_type": "stream",
     "text": [
      "Trying to load fhvhv_tripdata_2023-01.parquet from data/fhvhv_tripdata_2023-01.parquet\n",
      "fhvhv_tripdata_2023-01.parquet not found locally. Attempting to download from https://d37ci6vzurychx.cloudfront.net/trip-data/fhvhv_tripdata_2023-01.parquet\n",
      "Downloaded fhvhv_tripdata_2023-01.parquet to data/fhvhv_tripdata_2023-01.parquet\n",
      "Success: (18479031, 24)\n",
      "Trying to load fhvhv_tripdata_2023-02.parquet from data/fhvhv_tripdata_2023-02.parquet\n",
      "fhvhv_tripdata_2023-02.parquet not found locally. Attempting to download from https://d37ci6vzurychx.cloudfront.net/trip-data/fhvhv_tripdata_2023-02.parquet\n",
      "Downloaded fhvhv_tripdata_2023-02.parquet to data/fhvhv_tripdata_2023-02.parquet\n",
      "Success: (17960971, 24)\n",
      "Trying to load fhvhv_tripdata_2023-03.parquet from data/fhvhv_tripdata_2023-03.parquet\n",
      "fhvhv_tripdata_2023-03.parquet not found locally. Attempting to download from https://d37ci6vzurychx.cloudfront.net/trip-data/fhvhv_tripdata_2023-03.parquet\n",
      "Downloaded fhvhv_tripdata_2023-03.parquet to data/fhvhv_tripdata_2023-03.parquet\n",
      "Success: (20413539, 24)\n",
      "Trying to load fhvhv_tripdata_2023-04.parquet from data/fhvhv_tripdata_2023-04.parquet\n",
      "fhvhv_tripdata_2023-04.parquet not found locally. Attempting to download from https://d37ci6vzurychx.cloudfront.net/trip-data/fhvhv_tripdata_2023-04.parquet\n",
      "Downloaded fhvhv_tripdata_2023-04.parquet to data/fhvhv_tripdata_2023-04.parquet\n",
      "Success: (19144903, 24)\n",
      "Trying to load fhvhv_tripdata_2023-05.parquet from data/fhvhv_tripdata_2023-05.parquet\n",
      "fhvhv_tripdata_2023-05.parquet not found locally. Attempting to download from https://d37ci6vzurychx.cloudfront.net/trip-data/fhvhv_tripdata_2023-05.parquet\n",
      "Downloaded fhvhv_tripdata_2023-05.parquet to data/fhvhv_tripdata_2023-05.parquet\n",
      "Success: (19847676, 24)\n",
      "Trying to load fhvhv_tripdata_2023-06.parquet from data/fhvhv_tripdata_2023-06.parquet\n",
      "fhvhv_tripdata_2023-06.parquet not found locally. Attempting to download from https://d37ci6vzurychx.cloudfront.net/trip-data/fhvhv_tripdata_2023-06.parquet\n",
      "Downloaded fhvhv_tripdata_2023-06.parquet to data/fhvhv_tripdata_2023-06.parquet\n",
      "Success: (19366619, 24)\n",
      "Trying to load fhvhv_tripdata_2023-07.parquet from data/fhvhv_tripdata_2023-07.parquet\n",
      "fhvhv_tripdata_2023-07.parquet not found locally. Attempting to download from https://d37ci6vzurychx.cloudfront.net/trip-data/fhvhv_tripdata_2023-07.parquet\n",
      "Downloaded fhvhv_tripdata_2023-07.parquet to data/fhvhv_tripdata_2023-07.parquet\n",
      "Success: (19132131, 24)\n",
      "Trying to load fhvhv_tripdata_2023-08.parquet from data/fhvhv_tripdata_2023-08.parquet\n",
      "fhvhv_tripdata_2023-08.parquet not found locally. Attempting to download from https://d37ci6vzurychx.cloudfront.net/trip-data/fhvhv_tripdata_2023-08.parquet\n",
      "Downloaded fhvhv_tripdata_2023-08.parquet to data/fhvhv_tripdata_2023-08.parquet\n",
      "Success: (18322150, 24)\n",
      "Trying to load fhvhv_tripdata_2023-09.parquet from data/fhvhv_tripdata_2023-09.parquet\n",
      "fhvhv_tripdata_2023-09.parquet not found locally. Attempting to download from https://d37ci6vzurychx.cloudfront.net/trip-data/fhvhv_tripdata_2023-09.parquet\n",
      "Downloaded fhvhv_tripdata_2023-09.parquet to data/fhvhv_tripdata_2023-09.parquet\n",
      "Success: (19851123, 24)\n",
      "Trying to load fhvhv_tripdata_2023-10.parquet from data/fhvhv_tripdata_2023-10.parquet\n",
      "fhvhv_tripdata_2023-10.parquet not found locally. Attempting to download from https://d37ci6vzurychx.cloudfront.net/trip-data/fhvhv_tripdata_2023-10.parquet\n",
      "Downloaded fhvhv_tripdata_2023-10.parquet to data/fhvhv_tripdata_2023-10.parquet\n",
      "Success: (20186330, 24)\n",
      "Trying to load fhvhv_tripdata_2023-11.parquet from data/fhvhv_tripdata_2023-11.parquet\n",
      "fhvhv_tripdata_2023-11.parquet not found locally. Attempting to download from https://d37ci6vzurychx.cloudfront.net/trip-data/fhvhv_tripdata_2023-11.parquet\n",
      "Downloaded fhvhv_tripdata_2023-11.parquet to data/fhvhv_tripdata_2023-11.parquet\n",
      "Success: (19269250, 24)\n",
      "Trying to load fhvhv_tripdata_2023-12.parquet from data/fhvhv_tripdata_2023-12.parquet\n",
      "fhvhv_tripdata_2023-12.parquet not found locally. Attempting to download from https://d37ci6vzurychx.cloudfront.net/trip-data/fhvhv_tripdata_2023-12.parquet\n",
      "Downloaded fhvhv_tripdata_2023-12.parquet to data/fhvhv_tripdata_2023-12.parquet\n",
      "Success: (20516297, 24)\n",
      "Trying to load fhvhv_tripdata_2024-01.parquet from data/fhvhv_tripdata_2024-01.parquet\n",
      "Success: (19663930, 24)\n",
      "Trying to load fhvhv_tripdata_2024-02.parquet from data/fhvhv_tripdata_2024-02.parquet\n",
      "fhvhv_tripdata_2024-02.parquet not found locally. Attempting to download from https://d37ci6vzurychx.cloudfront.net/trip-data/fhvhv_tripdata_2024-02.parquet\n",
      "Downloaded fhvhv_tripdata_2024-02.parquet to data/fhvhv_tripdata_2024-02.parquet\n",
      "Success: (19359148, 24)\n",
      "Trying to load fhvhv_tripdata_2024-03.parquet from data/fhvhv_tripdata_2024-03.parquet\n",
      "Success: (21280788, 24)\n",
      "Trying to load fhvhv_tripdata_2024-04.parquet from data/fhvhv_tripdata_2024-04.parquet\n",
      "fhvhv_tripdata_2024-04.parquet not found locally. Attempting to download from https://d37ci6vzurychx.cloudfront.net/trip-data/fhvhv_tripdata_2024-04.parquet\n",
      "Downloaded fhvhv_tripdata_2024-04.parquet to data/fhvhv_tripdata_2024-04.parquet\n",
      "Success: (19733038, 24)\n",
      "Trying to load fhvhv_tripdata_2024-05.parquet from data/fhvhv_tripdata_2024-05.parquet\n",
      "fhvhv_tripdata_2024-05.parquet not found locally. Attempting to download from https://d37ci6vzurychx.cloudfront.net/trip-data/fhvhv_tripdata_2024-05.parquet\n",
      "Downloaded fhvhv_tripdata_2024-05.parquet to data/fhvhv_tripdata_2024-05.parquet\n",
      "Success: (20704538, 24)\n",
      "Trying to load fhvhv_tripdata_2024-06.parquet from data/fhvhv_tripdata_2024-06.parquet\n",
      "fhvhv_tripdata_2024-06.parquet not found locally. Attempting to download from https://d37ci6vzurychx.cloudfront.net/trip-data/fhvhv_tripdata_2024-06.parquet\n",
      "Downloaded fhvhv_tripdata_2024-06.parquet to data/fhvhv_tripdata_2024-06.parquet\n",
      "Success: (20123226, 24)\n",
      "Trying to load fhvhv_tripdata_2024-07.parquet from data/fhvhv_tripdata_2024-07.parquet\n",
      "fhvhv_tripdata_2024-07.parquet not found locally. Attempting to download from https://d37ci6vzurychx.cloudfront.net/trip-data/fhvhv_tripdata_2024-07.parquet\n",
      "Downloaded fhvhv_tripdata_2024-07.parquet to data/fhvhv_tripdata_2024-07.parquet\n",
      "Success: (19182934, 24)\n"
     ]
    }
   ],
   "source": [
    "file_names = [jan_2023, feb_2023, mar_2023, apr_2023, may_2023, jun_2023, \n",
    "              jul_2023, aug_2023, sep_2023, oct_2023, nov_2023, dec_2023, \n",
    "              jan_2024, feb_2024, mar_2024, apr_2024, may_2024, jun_2024,\n",
    "              jul_2024]\n",
    "\n",
    "for file in file_names:\n",
    "    df = get_DataFrame(file)\n",
    "    print(f'Success: {df.shape}')\n",
    "    del df # not enough room in memory for all fo them"
   ]
  },
  {
   "cell_type": "code",
   "execution_count": 6,
   "id": "61b9a441-07bd-4fb6-bdfb-800b4bf59c6e",
   "metadata": {},
   "outputs": [
    {
     "name": "stdout",
     "output_type": "stream",
     "text": [
      "fhvhv_tripdata_2023-01.parquet fhvhv_tripdata_2023-11.parquet\n",
      "fhvhv_tripdata_2023-02.parquet fhvhv_tripdata_2023-12.parquet\n",
      "fhvhv_tripdata_2023-03.parquet fhvhv_tripdata_2024-01.parquet\n",
      "fhvhv_tripdata_2023-04.parquet fhvhv_tripdata_2024-02.parquet\n",
      "fhvhv_tripdata_2023-05.parquet fhvhv_tripdata_2024-03.parquet\n",
      "fhvhv_tripdata_2023-06.parquet fhvhv_tripdata_2024-04.parquet\n",
      "fhvhv_tripdata_2023-07.parquet fhvhv_tripdata_2024-05.parquet\n",
      "fhvhv_tripdata_2023-08.parquet fhvhv_tripdata_2024-06.parquet\n",
      "fhvhv_tripdata_2023-09.parquet fhvhv_tripdata_2024-07.parquet\n",
      "fhvhv_tripdata_2023-10.parquet\n"
     ]
    }
   ],
   "source": [
    "!ls 'data'"
   ]
  }
 ],
 "metadata": {
  "kernelspec": {
   "display_name": "Python 3 (ipykernel)",
   "language": "python",
   "name": "python3"
  },
  "language_info": {
   "codemirror_mode": {
    "name": "ipython",
    "version": 3
   },
   "file_extension": ".py",
   "mimetype": "text/x-python",
   "name": "python",
   "nbconvert_exporter": "python",
   "pygments_lexer": "ipython3",
   "version": "3.12.3"
  }
 },
 "nbformat": 4,
 "nbformat_minor": 5
}
