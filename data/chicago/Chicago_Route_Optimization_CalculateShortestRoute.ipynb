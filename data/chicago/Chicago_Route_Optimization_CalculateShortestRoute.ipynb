{
 "cells": [
  {
   "cell_type": "markdown",
   "metadata": {},
   "source": [
    "### Import libraries"
   ]
  },
  {
   "cell_type": "code",
   "execution_count": 1,
   "metadata": {
    "id": "Rf3hSrs_IdmQ"
   },
   "outputs": [],
   "source": [
    "# for data\n",
    "import pandas as pd  \n",
    "import numpy as np  \n",
    "\n",
    "# for plotting\n",
    "import matplotlib.pyplot as plt \n",
    "import seaborn as sns  \n",
    "import folium  \n",
    "from folium import plugins\n",
    "import plotly.express as px  \n",
    "\n",
    "# for graph and routing\n",
    "import osmnx as ox  \n",
    "import networkx as nx \n",
    "import geopandas as gpd\n",
    "# for advanced routing\n",
    "# from ortools.constraint_solver import pywrapcp  \n",
    "# from ortools.constraint_solver import routing_enums_pb2\n",
    "\n",
    "import re\n",
    "import random\n"
   ]
  },
  {
   "cell_type": "markdown",
   "metadata": {
    "id": "9k-uzzw9Vn73"
   },
   "source": [
    "### import chicago data"
   ]
  },
  {
   "cell_type": "code",
   "execution_count": 2,
   "metadata": {
    "id": "v78RtP1gNojV"
   },
   "outputs": [],
   "source": [
    "df = pd.read_csv('chicago_data_5.2_perc_sample.csv')"
   ]
  },
  {
   "cell_type": "code",
   "execution_count": 685,
   "metadata": {
    "colab": {
     "base_uri": "https://localhost:8080/"
    },
    "id": "DvQTWkaqreVU",
    "outputId": "18e775d9-973b-4dc6-b26c-570c45cc73dc"
   },
   "outputs": [
    {
     "data": {
      "text/plain": [
       "(4528691, 32)"
      ]
     },
     "execution_count": 685,
     "metadata": {},
     "output_type": "execute_result"
    }
   ],
   "source": [
    "df.shape"
   ]
  },
  {
   "cell_type": "code",
   "execution_count": 686,
   "metadata": {
    "colab": {
     "base_uri": "https://localhost:8080/",
     "height": 320
    },
    "id": "iY3g1SxuNtL-",
    "outputId": "95201662-ae47-47e9-d0ac-4e1ffae29733"
   },
   "outputs": [
    {
     "data": {
      "text/html": [
       "<div>\n",
       "<style scoped>\n",
       "    .dataframe tbody tr th:only-of-type {\n",
       "        vertical-align: middle;\n",
       "    }\n",
       "\n",
       "    .dataframe tbody tr th {\n",
       "        vertical-align: top;\n",
       "    }\n",
       "\n",
       "    .dataframe thead th {\n",
       "        text-align: right;\n",
       "    }\n",
       "</style>\n",
       "<table border=\"1\" class=\"dataframe\">\n",
       "  <thead>\n",
       "    <tr style=\"text-align: right;\">\n",
       "      <th></th>\n",
       "      <th>Unnamed: 0</th>\n",
       "      <th>trip_start_timestamp</th>\n",
       "      <th>trip_end_timestamp</th>\n",
       "      <th>trip_seconds</th>\n",
       "      <th>trip_miles</th>\n",
       "      <th>percent_time_chicago</th>\n",
       "      <th>percent_distance_chicago</th>\n",
       "      <th>pickup_census_tract</th>\n",
       "      <th>dropoff_census_tract</th>\n",
       "      <th>pickup_community_area</th>\n",
       "      <th>...</th>\n",
       "      <th>rhum</th>\n",
       "      <th>prcp</th>\n",
       "      <th>wdir</th>\n",
       "      <th>wpgt</th>\n",
       "      <th>pres</th>\n",
       "      <th>year</th>\n",
       "      <th>month</th>\n",
       "      <th>dayname</th>\n",
       "      <th>hour_start</th>\n",
       "      <th>hour_end</th>\n",
       "    </tr>\n",
       "  </thead>\n",
       "  <tbody>\n",
       "    <tr>\n",
       "      <th>0</th>\n",
       "      <td>453863</td>\n",
       "      <td>2023-05-14 09:00:00</td>\n",
       "      <td>2023-05-14 09:00:00</td>\n",
       "      <td>314.0</td>\n",
       "      <td>1.37</td>\n",
       "      <td>0.9937</td>\n",
       "      <td>0.9920</td>\n",
       "      <td>1.703183e+10</td>\n",
       "      <td>1.703106e+10</td>\n",
       "      <td>7.0</td>\n",
       "      <td>...</td>\n",
       "      <td>65.0</td>\n",
       "      <td>0.0</td>\n",
       "      <td>20.0</td>\n",
       "      <td>NaN</td>\n",
       "      <td>1024.0</td>\n",
       "      <td>2023</td>\n",
       "      <td>5</td>\n",
       "      <td>Sunday</td>\n",
       "      <td>9</td>\n",
       "      <td>9</td>\n",
       "    </tr>\n",
       "    <tr>\n",
       "      <th>1</th>\n",
       "      <td>681723</td>\n",
       "      <td>2023-05-06 22:15:00</td>\n",
       "      <td>2023-05-06 22:15:00</td>\n",
       "      <td>615.0</td>\n",
       "      <td>2.43</td>\n",
       "      <td>0.9985</td>\n",
       "      <td>1.0000</td>\n",
       "      <td>1.703132e+10</td>\n",
       "      <td>1.703183e+10</td>\n",
       "      <td>32.0</td>\n",
       "      <td>...</td>\n",
       "      <td>47.0</td>\n",
       "      <td>0.0</td>\n",
       "      <td>150.0</td>\n",
       "      <td>NaN</td>\n",
       "      <td>1012.5</td>\n",
       "      <td>2023</td>\n",
       "      <td>5</td>\n",
       "      <td>Saturday</td>\n",
       "      <td>22</td>\n",
       "      <td>22</td>\n",
       "    </tr>\n",
       "    <tr>\n",
       "      <th>2</th>\n",
       "      <td>548264</td>\n",
       "      <td>2023-05-09 10:15:00</td>\n",
       "      <td>2023-05-09 10:45:00</td>\n",
       "      <td>1475.0</td>\n",
       "      <td>13.36</td>\n",
       "      <td>0.9985</td>\n",
       "      <td>0.9956</td>\n",
       "      <td>1.703105e+10</td>\n",
       "      <td>1.703198e+10</td>\n",
       "      <td>5.0</td>\n",
       "      <td>...</td>\n",
       "      <td>89.0</td>\n",
       "      <td>0.0</td>\n",
       "      <td>340.0</td>\n",
       "      <td>NaN</td>\n",
       "      <td>1018.0</td>\n",
       "      <td>2023</td>\n",
       "      <td>5</td>\n",
       "      <td>Tuesday</td>\n",
       "      <td>10</td>\n",
       "      <td>10</td>\n",
       "    </tr>\n",
       "  </tbody>\n",
       "</table>\n",
       "<p>3 rows × 32 columns</p>\n",
       "</div>"
      ],
      "text/plain": [
       "   Unnamed: 0 trip_start_timestamp  trip_end_timestamp  trip_seconds  \\\n",
       "0      453863  2023-05-14 09:00:00 2023-05-14 09:00:00         314.0   \n",
       "1      681723  2023-05-06 22:15:00 2023-05-06 22:15:00         615.0   \n",
       "2      548264  2023-05-09 10:15:00 2023-05-09 10:45:00        1475.0   \n",
       "\n",
       "   trip_miles  percent_time_chicago  percent_distance_chicago  \\\n",
       "0        1.37                0.9937                    0.9920   \n",
       "1        2.43                0.9985                    1.0000   \n",
       "2       13.36                0.9985                    0.9956   \n",
       "\n",
       "   pickup_census_tract  dropoff_census_tract  pickup_community_area  ...  \\\n",
       "0         1.703183e+10          1.703106e+10                    7.0  ...   \n",
       "1         1.703132e+10          1.703183e+10                   32.0  ...   \n",
       "2         1.703105e+10          1.703198e+10                    5.0  ...   \n",
       "\n",
       "   rhum  prcp   wdir  wpgt    pres  year  month   dayname hour_start hour_end  \n",
       "0  65.0   0.0   20.0   NaN  1024.0  2023      5    Sunday          9        9  \n",
       "1  47.0   0.0  150.0   NaN  1012.5  2023      5  Saturday         22       22  \n",
       "2  89.0   0.0  340.0   NaN  1018.0  2023      5   Tuesday         10       10  \n",
       "\n",
       "[3 rows x 32 columns]"
      ]
     },
     "execution_count": 686,
     "metadata": {},
     "output_type": "execute_result"
    }
   ],
   "source": [
    "df.head(3)"
   ]
  },
  {
   "cell_type": "code",
   "execution_count": 18,
   "metadata": {},
   "outputs": [
    {
     "name": "stdout",
     "output_type": "stream",
     "text": [
      "<class 'pandas.core.frame.DataFrame'>\n",
      "RangeIndex: 4528691 entries, 0 to 4528690\n",
      "Data columns (total 27 columns):\n",
      " #   Column                     Dtype  \n",
      "---  ------                     -----  \n",
      " 0   Unnamed: 0                 int64  \n",
      " 1   trip_start_timestamp       object \n",
      " 2   trip_end_timestamp         object \n",
      " 3   trip_seconds               float64\n",
      " 4   trip_miles                 float64\n",
      " 5   percent_time_chicago       float64\n",
      " 6   percent_distance_chicago   float64\n",
      " 7   pickup_census_tract        float64\n",
      " 8   dropoff_census_tract       float64\n",
      " 9   pickup_community_area      float64\n",
      " 10  dropoff_community_area     float64\n",
      " 11  fare                       float64\n",
      " 12  tip                        float64\n",
      " 13  additional_charges         float64\n",
      " 14  trip_total                 float64\n",
      " 15  shared_trip_authorized     bool   \n",
      " 16  shared_trip_match          bool   \n",
      " 17  trips_pooled               int64  \n",
      " 18  pickup_centroid_location   object \n",
      " 19  dropoff_centroid_location  object \n",
      " 20  temp                       float64\n",
      " 21  dwpt                       float64\n",
      " 22  rhum                       float64\n",
      " 23  prcp                       float64\n",
      " 24  wdir                       float64\n",
      " 25  wpgt                       float64\n",
      " 26  pres                       float64\n",
      "dtypes: bool(2), float64(19), int64(2), object(4)\n",
      "memory usage: 872.4+ MB\n"
     ]
    }
   ],
   "source": [
    "df.info()"
   ]
  },
  {
   "cell_type": "code",
   "execution_count": 4,
   "metadata": {},
   "outputs": [
    {
     "data": {
      "text/plain": [
       "3741872"
      ]
     },
     "execution_count": 4,
     "metadata": {},
     "output_type": "execute_result"
    }
   ],
   "source": [
    "# drop na values in pickup_centroid_location or dropoff_centroid_location\n",
    "data=df.dropna(subset=['pickup_centroid_location', 'dropoff_centroid_location'])\n",
    "len(data)"
   ]
  },
  {
   "cell_type": "code",
   "execution_count": 5,
   "metadata": {},
   "outputs": [
    {
     "data": {
      "text/plain": [
       "pickup_centroid_location     0\n",
       "dropoff_centroid_location    0\n",
       "dtype: int64"
      ]
     },
     "execution_count": 5,
     "metadata": {},
     "output_type": "execute_result"
    }
   ],
   "source": [
    "data[['pickup_centroid_location', 'dropoff_centroid_location']].isnull().sum()"
   ]
  },
  {
   "cell_type": "code",
   "execution_count": 9,
   "metadata": {},
   "outputs": [
    {
     "data": {
      "text/html": [
       "<div>\n",
       "<style scoped>\n",
       "    .dataframe tbody tr th:only-of-type {\n",
       "        vertical-align: middle;\n",
       "    }\n",
       "\n",
       "    .dataframe tbody tr th {\n",
       "        vertical-align: top;\n",
       "    }\n",
       "\n",
       "    .dataframe thead th {\n",
       "        text-align: right;\n",
       "    }\n",
       "</style>\n",
       "<table border=\"1\" class=\"dataframe\">\n",
       "  <thead>\n",
       "    <tr style=\"text-align: right;\">\n",
       "      <th></th>\n",
       "      <th>Unnamed: 0</th>\n",
       "      <th>trip_start_timestamp</th>\n",
       "      <th>trip_end_timestamp</th>\n",
       "      <th>trip_seconds</th>\n",
       "      <th>trip_miles</th>\n",
       "      <th>percent_time_chicago</th>\n",
       "      <th>percent_distance_chicago</th>\n",
       "      <th>pickup_census_tract</th>\n",
       "      <th>dropoff_census_tract</th>\n",
       "      <th>pickup_community_area</th>\n",
       "      <th>...</th>\n",
       "      <th>trips_pooled</th>\n",
       "      <th>pickup_centroid_location</th>\n",
       "      <th>dropoff_centroid_location</th>\n",
       "      <th>temp</th>\n",
       "      <th>dwpt</th>\n",
       "      <th>rhum</th>\n",
       "      <th>prcp</th>\n",
       "      <th>wdir</th>\n",
       "      <th>wpgt</th>\n",
       "      <th>pres</th>\n",
       "    </tr>\n",
       "  </thead>\n",
       "  <tbody>\n",
       "    <tr>\n",
       "      <th>0</th>\n",
       "      <td>453863</td>\n",
       "      <td>2023-05-14T09:00:00.000</td>\n",
       "      <td>2023-05-14T09:00:00.000</td>\n",
       "      <td>314.0</td>\n",
       "      <td>1.37</td>\n",
       "      <td>0.9937</td>\n",
       "      <td>0.9920</td>\n",
       "      <td>1.703183e+10</td>\n",
       "      <td>1.703106e+10</td>\n",
       "      <td>7.0</td>\n",
       "      <td>...</td>\n",
       "      <td>1</td>\n",
       "      <td>POINT (-87.6640782395 41.9218774613)</td>\n",
       "      <td>POINT (-87.6467297286 41.9346591566)</td>\n",
       "      <td>14.4</td>\n",
       "      <td>7.9</td>\n",
       "      <td>65.0</td>\n",
       "      <td>0.0</td>\n",
       "      <td>20.0</td>\n",
       "      <td>NaN</td>\n",
       "      <td>1024.0</td>\n",
       "    </tr>\n",
       "    <tr>\n",
       "      <th>1</th>\n",
       "      <td>681723</td>\n",
       "      <td>2023-05-06T22:15:00.000</td>\n",
       "      <td>2023-05-06T22:15:00.000</td>\n",
       "      <td>615.0</td>\n",
       "      <td>2.43</td>\n",
       "      <td>0.9985</td>\n",
       "      <td>1.0000</td>\n",
       "      <td>1.703132e+10</td>\n",
       "      <td>1.703183e+10</td>\n",
       "      <td>32.0</td>\n",
       "      <td>...</td>\n",
       "      <td>1</td>\n",
       "      <td>POINT (-87.6219716519 41.8774061234)</td>\n",
       "      <td>POINT (-87.6540926517 41.8716894745)</td>\n",
       "      <td>25.0</td>\n",
       "      <td>12.9</td>\n",
       "      <td>47.0</td>\n",
       "      <td>0.0</td>\n",
       "      <td>150.0</td>\n",
       "      <td>NaN</td>\n",
       "      <td>1012.5</td>\n",
       "    </tr>\n",
       "    <tr>\n",
       "      <th>2</th>\n",
       "      <td>548264</td>\n",
       "      <td>2023-05-09T10:15:00.000</td>\n",
       "      <td>2023-05-09T10:45:00.000</td>\n",
       "      <td>1475.0</td>\n",
       "      <td>13.36</td>\n",
       "      <td>0.9985</td>\n",
       "      <td>0.9956</td>\n",
       "      <td>1.703105e+10</td>\n",
       "      <td>1.703198e+10</td>\n",
       "      <td>5.0</td>\n",
       "      <td>...</td>\n",
       "      <td>1</td>\n",
       "      <td>POINT (-87.6835062305 41.9504425991)</td>\n",
       "      <td>POINT (-87.9030396611 41.9790708201)</td>\n",
       "      <td>8.9</td>\n",
       "      <td>7.2</td>\n",
       "      <td>89.0</td>\n",
       "      <td>0.0</td>\n",
       "      <td>340.0</td>\n",
       "      <td>NaN</td>\n",
       "      <td>1018.0</td>\n",
       "    </tr>\n",
       "    <tr>\n",
       "      <th>3</th>\n",
       "      <td>199697</td>\n",
       "      <td>2023-05-12T17:30:00.000</td>\n",
       "      <td>2023-05-12T18:00:00.000</td>\n",
       "      <td>1413.0</td>\n",
       "      <td>6.52</td>\n",
       "      <td>0.9995</td>\n",
       "      <td>0.9880</td>\n",
       "      <td>1.703106e+10</td>\n",
       "      <td>1.703108e+10</td>\n",
       "      <td>6.0</td>\n",
       "      <td>...</td>\n",
       "      <td>1</td>\n",
       "      <td>POINT (-87.6665362813 41.9506733576)</td>\n",
       "      <td>POINT (-87.6318639497 41.8920421365)</td>\n",
       "      <td>25.0</td>\n",
       "      <td>16.7</td>\n",
       "      <td>60.0</td>\n",
       "      <td>0.0</td>\n",
       "      <td>140.0</td>\n",
       "      <td>NaN</td>\n",
       "      <td>1016.0</td>\n",
       "    </tr>\n",
       "    <tr>\n",
       "      <th>4</th>\n",
       "      <td>165024</td>\n",
       "      <td>2023-05-08T20:30:00.000</td>\n",
       "      <td>2023-05-08T20:45:00.000</td>\n",
       "      <td>335.0</td>\n",
       "      <td>1.33</td>\n",
       "      <td>1.0000</td>\n",
       "      <td>1.0000</td>\n",
       "      <td>1.703184e+10</td>\n",
       "      <td>1.703141e+10</td>\n",
       "      <td>41.0</td>\n",
       "      <td>...</td>\n",
       "      <td>1</td>\n",
       "      <td>POINT (-87.6012851221 41.7904693995)</td>\n",
       "      <td>POINT (-87.5853031602 41.8012268363)</td>\n",
       "      <td>12.8</td>\n",
       "      <td>11.0</td>\n",
       "      <td>89.0</td>\n",
       "      <td>2.1</td>\n",
       "      <td>30.0</td>\n",
       "      <td>NaN</td>\n",
       "      <td>1014.0</td>\n",
       "    </tr>\n",
       "  </tbody>\n",
       "</table>\n",
       "<p>5 rows × 27 columns</p>\n",
       "</div>"
      ],
      "text/plain": [
       "   Unnamed: 0     trip_start_timestamp       trip_end_timestamp  trip_seconds  \\\n",
       "0      453863  2023-05-14T09:00:00.000  2023-05-14T09:00:00.000         314.0   \n",
       "1      681723  2023-05-06T22:15:00.000  2023-05-06T22:15:00.000         615.0   \n",
       "2      548264  2023-05-09T10:15:00.000  2023-05-09T10:45:00.000        1475.0   \n",
       "3      199697  2023-05-12T17:30:00.000  2023-05-12T18:00:00.000        1413.0   \n",
       "4      165024  2023-05-08T20:30:00.000  2023-05-08T20:45:00.000         335.0   \n",
       "\n",
       "   trip_miles  percent_time_chicago  percent_distance_chicago  \\\n",
       "0        1.37                0.9937                    0.9920   \n",
       "1        2.43                0.9985                    1.0000   \n",
       "2       13.36                0.9985                    0.9956   \n",
       "3        6.52                0.9995                    0.9880   \n",
       "4        1.33                1.0000                    1.0000   \n",
       "\n",
       "   pickup_census_tract  dropoff_census_tract  pickup_community_area  ...  \\\n",
       "0         1.703183e+10          1.703106e+10                    7.0  ...   \n",
       "1         1.703132e+10          1.703183e+10                   32.0  ...   \n",
       "2         1.703105e+10          1.703198e+10                    5.0  ...   \n",
       "3         1.703106e+10          1.703108e+10                    6.0  ...   \n",
       "4         1.703184e+10          1.703141e+10                   41.0  ...   \n",
       "\n",
       "   trips_pooled              pickup_centroid_location  \\\n",
       "0             1  POINT (-87.6640782395 41.9218774613)   \n",
       "1             1  POINT (-87.6219716519 41.8774061234)   \n",
       "2             1  POINT (-87.6835062305 41.9504425991)   \n",
       "3             1  POINT (-87.6665362813 41.9506733576)   \n",
       "4             1  POINT (-87.6012851221 41.7904693995)   \n",
       "\n",
       "              dropoff_centroid_location  temp  dwpt  rhum  prcp   wdir wpgt  \\\n",
       "0  POINT (-87.6467297286 41.9346591566)  14.4   7.9  65.0   0.0   20.0  NaN   \n",
       "1  POINT (-87.6540926517 41.8716894745)  25.0  12.9  47.0   0.0  150.0  NaN   \n",
       "2  POINT (-87.9030396611 41.9790708201)   8.9   7.2  89.0   0.0  340.0  NaN   \n",
       "3  POINT (-87.6318639497 41.8920421365)  25.0  16.7  60.0   0.0  140.0  NaN   \n",
       "4  POINT (-87.5853031602 41.8012268363)  12.8  11.0  89.0   2.1   30.0  NaN   \n",
       "\n",
       "     pres  \n",
       "0  1024.0  \n",
       "1  1012.5  \n",
       "2  1018.0  \n",
       "3  1016.0  \n",
       "4  1014.0  \n",
       "\n",
       "[5 rows x 27 columns]"
      ]
     },
     "execution_count": 9,
     "metadata": {},
     "output_type": "execute_result"
    }
   ],
   "source": [
    "data.head()"
   ]
  },
  {
   "cell_type": "code",
   "execution_count": 6,
   "metadata": {
    "colab": {
     "base_uri": "https://localhost:8080/"
    },
    "id": "mRhs8uFBNwVz",
    "outputId": "4203d9fa-b520-4869-f582-f51e71b1a47e"
   },
   "outputs": [
    {
     "data": {
      "text/html": [
       "<div>\n",
       "<style scoped>\n",
       "    .dataframe tbody tr th:only-of-type {\n",
       "        vertical-align: middle;\n",
       "    }\n",
       "\n",
       "    .dataframe tbody tr th {\n",
       "        vertical-align: top;\n",
       "    }\n",
       "\n",
       "    .dataframe thead th {\n",
       "        text-align: right;\n",
       "    }\n",
       "</style>\n",
       "<table border=\"1\" class=\"dataframe\">\n",
       "  <thead>\n",
       "    <tr style=\"text-align: right;\">\n",
       "      <th></th>\n",
       "      <th></th>\n",
       "      <th>trip_miles</th>\n",
       "    </tr>\n",
       "    <tr>\n",
       "      <th>pickup_centroid_location</th>\n",
       "      <th>dropoff_centroid_location</th>\n",
       "      <th></th>\n",
       "    </tr>\n",
       "  </thead>\n",
       "  <tbody>\n",
       "    <tr>\n",
       "      <th rowspan=\"3\" valign=\"top\">POINT (-87.529950466 41.6954498278)</th>\n",
       "      <th>POINT (-87.548564529 41.7319988447)</th>\n",
       "      <td>1</td>\n",
       "    </tr>\n",
       "    <tr>\n",
       "      <th>POINT (-87.600092686 41.7008887972)</th>\n",
       "      <td>1</td>\n",
       "    </tr>\n",
       "    <tr>\n",
       "      <th>POINT (-87.6318639497 41.8920421365)</th>\n",
       "      <td>1</td>\n",
       "    </tr>\n",
       "    <tr>\n",
       "      <th rowspan=\"2\" valign=\"top\">POINT (-87.5307124836 41.7030053028)</th>\n",
       "      <th>POINT (-87.529950466 41.6954498278)</th>\n",
       "      <td>1</td>\n",
       "    </tr>\n",
       "    <tr>\n",
       "      <th>POINT (-87.5470098641 41.7413866268)</th>\n",
       "      <td>1</td>\n",
       "    </tr>\n",
       "    <tr>\n",
       "      <th>...</th>\n",
       "      <th>...</th>\n",
       "      <td>...</td>\n",
       "    </tr>\n",
       "    <tr>\n",
       "      <th rowspan=\"5\" valign=\"top\">POINT (-87.913624596 41.9802643146)</th>\n",
       "      <th>POINT (-87.7980321814 41.9292973683)</th>\n",
       "      <td>106</td>\n",
       "    </tr>\n",
       "    <tr>\n",
       "      <th>POINT (-87.8045320063 41.9850151008)</th>\n",
       "      <td>910</td>\n",
       "    </tr>\n",
       "    <tr>\n",
       "      <th>POINT (-87.8060200025 41.9465114202)</th>\n",
       "      <td>597</td>\n",
       "    </tr>\n",
       "    <tr>\n",
       "      <th>POINT (-87.8137810343 42.0076125931)</th>\n",
       "      <td>198</td>\n",
       "    </tr>\n",
       "    <tr>\n",
       "      <th>POINT (-87.913624596 41.9802643146)</th>\n",
       "      <td>2569</td>\n",
       "    </tr>\n",
       "  </tbody>\n",
       "</table>\n",
       "<p>189373 rows × 1 columns</p>\n",
       "</div>"
      ],
      "text/plain": [
       "                                                                           trip_miles\n",
       "pickup_centroid_location             dropoff_centroid_location                       \n",
       "POINT (-87.529950466 41.6954498278)  POINT (-87.548564529 41.7319988447)            1\n",
       "                                     POINT (-87.600092686 41.7008887972)            1\n",
       "                                     POINT (-87.6318639497 41.8920421365)           1\n",
       "POINT (-87.5307124836 41.7030053028) POINT (-87.529950466 41.6954498278)            1\n",
       "                                     POINT (-87.5470098641 41.7413866268)           1\n",
       "...                                                                               ...\n",
       "POINT (-87.913624596 41.9802643146)  POINT (-87.7980321814 41.9292973683)         106\n",
       "                                     POINT (-87.8045320063 41.9850151008)         910\n",
       "                                     POINT (-87.8060200025 41.9465114202)         597\n",
       "                                     POINT (-87.8137810343 42.0076125931)         198\n",
       "                                     POINT (-87.913624596 41.9802643146)         2569\n",
       "\n",
       "[189373 rows x 1 columns]"
      ]
     },
     "execution_count": 6,
     "metadata": {},
     "output_type": "execute_result"
    }
   ],
   "source": [
    "data.groupby(['pickup_centroid_location', 'dropoff_centroid_location'])[['trip_miles']].count()"
   ]
  },
  {
   "cell_type": "markdown",
   "metadata": {},
   "source": [
    "### Match the actual trip route with the shortest route calculated from networkx"
   ]
  },
  {
   "cell_type": "code",
   "execution_count": 3,
   "metadata": {
    "colab": {
     "base_uri": "https://localhost:8080/",
     "height": 709
    },
    "id": "esX3OLDzSM1q",
    "outputId": "c93e9acf-c4df-4482-8395-98a39f057551"
   },
   "outputs": [],
   "source": [
    "# create a osmnx graph for Chicago city\n",
    "\n",
    "place = 'Chicago, Illinois, USA'\n",
    "G = ox.graph_from_place(place, network_type='drive')\n",
    "\n",
    "#add speed and travel_time attributes to the edges.\n",
    "G = ox.add_edge_speeds(G)\n",
    "G = ox.add_edge_travel_times(G)"
   ]
  },
  {
   "cell_type": "code",
   "execution_count": 4,
   "metadata": {},
   "outputs": [],
   "source": [
    "# create geo-dataframe for both nodes and edges\n",
    "nodes, edges = ox.graph_to_gdfs(G, nodes=True, edges=True)"
   ]
  },
  {
   "cell_type": "code",
   "execution_count": null,
   "metadata": {},
   "outputs": [],
   "source": [
    "# create a dataframe data_group to only include the unique \n",
    "# ('pickup_centroid_location', 'dropoff_centroid_location') from the dataframe data\n",
    "# to avoid duplicated calculations in the below\n",
    "data_group=data.drop_duplicates(['pickup_centroid_location', 'dropoff_centroid_location'])"
   ]
  },
  {
   "cell_type": "code",
   "execution_count": 202,
   "metadata": {},
   "outputs": [],
   "source": [
    "#convert the end points of each pair into nodes of the graph:\n",
    "data_group['start_node']=data_group.apply(lambda row: \n",
    "                                                        ox.distance.nearest_nodes(\n",
    "                                                            G, \n",
    "                                                            float(re.findall(pattern, row['pickup_centroid_location'])[0]),\n",
    "                                                            float(re.findall(pattern, row['pickup_centroid_location'])[1])),\n",
    "                                                            axis=1)\n",
    "data_group['end_node']=data_group.apply(lambda row: \n",
    "                                                        ox.distance.nearest_nodes(\n",
    "                                                            G, \n",
    "                                                            float(re.findall(pattern, row['dropoff_centroid_location'])[0]),\n",
    "                                                            float(re.findall(pattern, row['dropoff_centroid_location'])[1])),\n",
    "                                                            axis=1)"
   ]
  },
  {
   "cell_type": "code",
   "execution_count": null,
   "metadata": {},
   "outputs": [],
   "source": [
    "# Calculate the distance between the point and the nearest node\n",
    "data_group['start_node_distance'] = data_group.apply(lambda row: \n",
    "                                                                       ox.distance.great_circle_vec(\n",
    "                                                                       float(re.findall(pattern, row['pickup_centroid_location'])[1]),\n",
    "                                                                       float(re.findall(pattern, row['pickup_centroid_location'])[0]),\n",
    "                                                                       G.nodes[row['start_node']]['y'], G.nodes[row['start_node']]['x']),\n",
    "                                                                   axis=1)\n",
    "data_group['end_node_distance'] = data_group.apply(lambda row: \n",
    "                                                                       ox.distance.great_circle_vec(\n",
    "                                                                       float(re.findall(pattern, row['dropoff_centroid_location'])[1]),\n",
    "                                                                       float(re.findall(pattern, row['dropoff_centroid_location'])[0]),\n",
    "                                                                       G.nodes[row['end_node']]['y'], G.nodes[row['end_node']]['x']),\n",
    "                                                                   axis=1)"
   ]
  },
  {
   "cell_type": "code",
   "execution_count": null,
   "metadata": {},
   "outputs": [],
   "source": [
    "# calculate the shortest route by length\n",
    "def get_shortest_route(row):\n",
    "    try:\n",
    "        shortest_route=nx.shortest_path(G, row['start_node'], row['end_node'], weight='length')\n",
    "        shortest_route_length=nx.shortest_path_length(G, row['start_node'], row['end_node'], weight='length')   \n",
    "    except nx.NetworkXNoPath:\n",
    "        shortest_route=np.nan\n",
    "        shortest_route_length=np.nan\n",
    "    return shortest_route, shortest_route_length\n",
    "# Calculate the shortest route along with its length\n",
    "data_group[['shortest_route','shortest_route_length']]= data_group.apply(\n",
    "                                                                                                                                 lambda row:\n",
    "                                                                                                                                pd.Series(get_shortest_route(row)), axis=1)"
   ]
  },
  {
   "cell_type": "code",
   "execution_count": 432,
   "metadata": {},
   "outputs": [],
   "source": [
    "# save this dataframe for an easier access in the future\n",
    "data_group.to_csv('Chicago_data_group.csv')"
   ]
  },
  {
   "cell_type": "code",
   "execution_count": 433,
   "metadata": {},
   "outputs": [],
   "source": [
    "# merge the 'start_node' and 'end_node' columns with the original data dataframe and renamed it as data_merged\n",
    "data_group_col=data_group[['pickup_centroid_location', 'dropoff_centroid_location', 'start_node','end_node',\n",
    "                           'start_node_distance', 'end_node_distance','shortest_route', 'shortest_route_length']]\n",
    "data_merged=pd.merge(data, data_group_col, on=['pickup_centroid_location', 'dropoff_centroid_location'])"
   ]
  },
  {
   "cell_type": "code",
   "execution_count": null,
   "metadata": {},
   "outputs": [],
   "source": [
    "# add a new column about the absolute difference between the actual trip_miles and the calculated shortest route length\n",
    "data_merged['absdiff_trip_shortest_meters']=abs(data_merged['trip_miles']*1609.344-data_merged['shortest_route_length'])"
   ]
  },
  {
   "cell_type": "code",
   "execution_count": 434,
   "metadata": {},
   "outputs": [],
   "source": [
    "# save this dataframe for an easier access in the future\n",
    "data_merged.to_csv('Chicago_orig.csv')"
   ]
  },
  {
   "cell_type": "code",
   "execution_count": null,
   "metadata": {
    "id": "wQImO0ficZpl"
   },
   "outputs": [],
   "source": []
  }
 ],
 "metadata": {
  "colab": {
   "provenance": []
  },
  "kernelspec": {
   "display_name": "Python 3 (ipykernel)",
   "language": "python",
   "name": "python3"
  },
  "language_info": {
   "codemirror_mode": {
    "name": "ipython",
    "version": 3
   },
   "file_extension": ".py",
   "mimetype": "text/x-python",
   "name": "python",
   "nbconvert_exporter": "python",
   "pygments_lexer": "ipython3",
   "version": "3.11.7"
  }
 },
 "nbformat": 4,
 "nbformat_minor": 1
}
