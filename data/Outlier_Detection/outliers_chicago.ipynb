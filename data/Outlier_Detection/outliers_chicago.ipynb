{
 "cells": [
  {
   "cell_type": "code",
   "execution_count": 1,
   "metadata": {},
   "outputs": [],
   "source": [
    "import boto3\n",
    "import pandas as pd\n",
    "from io import StringIO\n",
    "import time\n",
    "import matplotlib.pyplot as plt\n",
    "from scipy import stats\n",
    "import numpy as np\n",
    "\n"
   ]
  },
  {
   "cell_type": "code",
   "execution_count": 2,
   "metadata": {},
   "outputs": [
    {
     "name": "stdout",
     "output_type": "stream",
     "text": [
      "\n",
      "Time taken to read the file from S3: 94.00 seconds\n"
     ]
    }
   ],
   "source": [
    "# Set up the S3 client\n",
    "s3_client = boto3.client('s3')\n",
    "\n",
    "# Define the bucket name and file key\n",
    "bucket_name = 'beamdata-pocketride'\n",
    "file_key = 'Chicago/combined_data_2024_04.csv'\n",
    "\n",
    "# Step 1: Start the timer\n",
    "start_time = time.time()\n",
    "\n",
    "# Step 2: Read the CSV file from S3\n",
    "response = s3_client.get_object(Bucket=bucket_name, Key=file_key)\n",
    "\n",
    "# Check if the file was fetched successfully\n",
    "if response.get(\"ResponseMetadata\", {}).get(\"HTTPStatusCode\") == 200:\n",
    "    # Load the CSV content into a pandas DataFrame\n",
    "    df = pd.read_csv(StringIO(response['Body'].read().decode('utf-8')))\n",
    "    \n",
    "    # Step 3: Stop the timer\n",
    "    end_time = time.time()\n",
    "    \n",
    "    # Calculate the total time taken\n",
    "    time_taken = end_time - start_time\n",
    "    \n",
    "    # Display the DataFrame and the time taken\n",
    "    df.head()\n",
    "    print(f\"\\nTime taken to read the file from S3: {time_taken:.2f} seconds\")\n",
    "else:\n",
    "    print(\"Failed to fetch the file from S3.\")"
   ]
  },
  {
   "cell_type": "code",
   "execution_count": 3,
   "metadata": {},
   "outputs": [
    {
     "name": "stdout",
     "output_type": "stream",
     "text": [
      "<class 'pandas.core.frame.DataFrame'>\n",
      "RangeIndex: 7371563 entries, 0 to 7371562\n",
      "Data columns (total 24 columns):\n",
      " #   Column                      Dtype  \n",
      "---  ------                      -----  \n",
      " 0   trip_id                     object \n",
      " 1   trip_start_timestamp        object \n",
      " 2   trip_end_timestamp          object \n",
      " 3   trip_seconds                float64\n",
      " 4   trip_miles                  float64\n",
      " 5   percent_time_chicago        float64\n",
      " 6   percent_distance_chicago    float64\n",
      " 7   pickup_census_tract         float64\n",
      " 8   dropoff_census_tract        float64\n",
      " 9   pickup_community_area       float64\n",
      " 10  dropoff_community_area      float64\n",
      " 11  fare                        float64\n",
      " 12  tip                         float64\n",
      " 13  additional_charges          float64\n",
      " 14  trip_total                  float64\n",
      " 15  shared_trip_authorized      bool   \n",
      " 16  shared_trip_match           bool   \n",
      " 17  trips_pooled                int64  \n",
      " 18  pickup_centroid_latitude    float64\n",
      " 19  pickup_centroid_longitude   float64\n",
      " 20  pickup_centroid_location    object \n",
      " 21  dropoff_centroid_latitude   float64\n",
      " 22  dropoff_centroid_longitude  float64\n",
      " 23  dropoff_centroid_location   object \n",
      "dtypes: bool(2), float64(16), int64(1), object(5)\n",
      "memory usage: 1.2+ GB\n"
     ]
    }
   ],
   "source": [
    "df.info()"
   ]
  },
  {
   "cell_type": "markdown",
   "metadata": {},
   "source": [
    "# Functions for z-score and IQR"
   ]
  },
  {
   "cell_type": "code",
   "execution_count": 4,
   "metadata": {},
   "outputs": [],
   "source": [
    "def analyze_column(df, column_name, z_threshold=3, iqr_factor=1.5):\n",
    "    # Drop null values\n",
    "    column_data = df[column_name].dropna()\n",
    "\n",
    "    # Calculate original skewness\n",
    "    original_skewness = column_data.skew()\n",
    "\n",
    "    # Apply log transformation\n",
    "    column_data_log = np.log1p(column_data)  # log1p is used to handle zero values\n",
    "\n",
    "    # Calculate log skewness\n",
    "    log_skewness = column_data_log.skew()\n",
    "\n",
    "    # Calculate z-scores for log-transformed column\n",
    "    z_scores_log = stats.zscore(column_data_log)\n",
    "\n",
    "    # Calculate IQR for log-transformed column\n",
    "    Q1 = column_data_log.quantile(0.25)\n",
    "    Q3 = column_data_log.quantile(0.75)\n",
    "    IQR = Q3 - Q1\n",
    "\n",
    "    # Determine bounds for outliers\n",
    "    lower_bound = Q1 - iqr_factor * IQR\n",
    "    upper_bound = Q3 + iqr_factor * IQR\n",
    "\n",
    "    # Flag Z-score and IQR outliers\n",
    "    z_outliers = np.abs(z_scores_log) > z_threshold\n",
    "    iqr_outliers = (column_data_log < lower_bound) | (column_data_log > upper_bound)\n",
    "\n",
    "    # Calculate confidence scores\n",
    "    z_confidence = np.clip(np.abs(z_scores_log) / z_threshold, 0, 1)\n",
    "    iqr_confidence = np.clip(\n",
    "        np.where(column_data_log < lower_bound, (lower_bound - column_data_log) / IQR,\n",
    "                 np.where(column_data_log > upper_bound, (column_data_log - upper_bound) / IQR, 0)),\n",
    "        0, 1\n",
    "    )\n",
    "\n",
    "    # Combined confidence score\n",
    "    combined_confidence = (z_confidence + iqr_confidence) / 2\n",
    "\n",
    "    # Add new columns to the DataFrame\n",
    "    df[f'IQR_{column_name}'] = iqr_outliers\n",
    "    df[f'Z_OUTLIER_{column_name}'] = z_outliers\n",
    "    df[f'CONFIDENCE_{column_name}'] = combined_confidence\n",
    "    df[f'Z_LOG_SCORE_{column_name}'] = z_scores_log\n",
    "\n",
    "    return original_skewness, log_skewness\n",
    "\n",
    "def plot_histograms(df, column_name, original_skewness, log_skewness):\n",
    "    column_data = df[column_name].dropna()\n",
    "    column_data_log = np.log1p(column_data)\n",
    "\n",
    "    # Plot histograms\n",
    "    plt.figure(figsize=(12, 6))\n",
    "\n",
    "    plt.subplot(1, 2, 1)\n",
    "    plt.hist(column_data, bins=50, color='blue', alpha=0.7)\n",
    "    plt.title(f'Original {column_name} Histogram')\n",
    "    plt.xlabel(column_name)\n",
    "    plt.ylabel('Frequency')\n",
    "\n",
    "    plt.subplot(1, 2, 2)\n",
    "    plt.hist(column_data_log, bins=50, color='green', alpha=0.7)\n",
    "    plt.title(f'Log-transformed {column_name} Histogram')\n",
    "    plt.xlabel(f'Log({column_name})')\n",
    "    plt.ylabel('Frequency')\n",
    "\n",
    "    plt.tight_layout()\n",
    "    plt.show()\n",
    "\n",
    "    print(f\"Original Skewness of {column_name}: {original_skewness}\")\n",
    "    print(f\"Log-transformed Skewness of {column_name}: {log_skewness}\")\n",
    "\n"
   ]
  },
  {
   "cell_type": "markdown",
   "metadata": {},
   "source": [
    "# Trip Miles"
   ]
  },
  {
   "cell_type": "code",
   "execution_count": 5,
   "metadata": {},
   "outputs": [
    {
     "data": {
      "image/png": "[encoded data removed]",
      "text/plain": [
       "<Figure size 1200x600 with 2 Axes>"
      ]
     },
     "metadata": {},
     "output_type": "display_data"
    },
    {
     "name": "stdout",
     "output_type": "stream",
     "text": [
      "Original Skewness of trip_miles: 3.439457824269097\n",
      "Log-transformed Skewness of trip_miles: 0.3756453853037757\n"
     ]
    }
   ],
   "source": [
    "# Example usage\n",
    "original_skewness, log_skewness = analyze_column(df, 'trip_miles')\n",
    "plot_histograms(df, 'trip_miles', original_skewness, log_skewness)"
   ]
  },
  {
   "cell_type": "markdown",
   "metadata": {},
   "source": [
    "# Trip time"
   ]
  },
  {
   "cell_type": "code",
   "execution_count": 7,
   "metadata": {},
   "outputs": [],
   "source": [
    "df['trip_start_timestamp'] = pd.to_datetime(df['trip_start_timestamp'])\n",
    "df['trip_end_timestamp'] = pd.to_datetime(df['trip_end_timestamp'])"
   ]
  },
  {
   "cell_type": "code",
   "execution_count": 8,
   "metadata": {},
   "outputs": [],
   "source": [
    "# Extract day of the week, day of the month, hour, and minute for trip_start_timestamp\n",
    "df['start_day_of_week'] = df['trip_start_timestamp'].dt.dayofweek\n",
    "df['start_day_of_month'] = df['trip_start_timestamp'].dt.day\n",
    "df['start_hour'] = df['trip_start_timestamp'].dt.hour\n",
    "df['start_minute'] = df['trip_start_timestamp'].dt.minute\n",
    "\n",
    "# Extract day of the week, day of the month, hour, and minute for trip_end_timestamp\n",
    "df['end_day_of_week'] = df['trip_end_timestamp'].dt.dayofweek\n",
    "df['end_day_of_month'] = df['trip_end_timestamp'].dt.day\n",
    "df['end_hour'] = df['trip_end_timestamp'].dt.hour\n",
    "df['end_minute'] = df['trip_end_timestamp'].dt.minute"
   ]
  },
  {
   "cell_type": "code",
   "execution_count": 10,
   "metadata": {},
   "outputs": [
    {
     "ename": "KeyError",
     "evalue": "'trip_time'",
     "output_type": "error",
     "traceback": [
      "\u001b[1;31m---------------------------------------------------------------------------\u001b[0m",
      "\u001b[1;31mKeyError\u001b[0m                                  Traceback (most recent call last)",
      "File \u001b[1;32mc:\\Users\\Richard\\anaconda3\\envs\\pocketride\\lib\\site-packages\\pandas\\core\\indexes\\base.py:3805\u001b[0m, in \u001b[0;36mIndex.get_loc\u001b[1;34m(self, key)\u001b[0m\n\u001b[0;32m   3804\u001b[0m \u001b[38;5;28;01mtry\u001b[39;00m:\n\u001b[1;32m-> 3805\u001b[0m     \u001b[38;5;28;01mreturn\u001b[39;00m \u001b[38;5;28;43mself\u001b[39;49m\u001b[38;5;241;43m.\u001b[39;49m\u001b[43m_engine\u001b[49m\u001b[38;5;241;43m.\u001b[39;49m\u001b[43mget_loc\u001b[49m\u001b[43m(\u001b[49m\u001b[43mcasted_key\u001b[49m\u001b[43m)\u001b[49m\n\u001b[0;32m   3806\u001b[0m \u001b[38;5;28;01mexcept\u001b[39;00m \u001b[38;5;167;01mKeyError\u001b[39;00m \u001b[38;5;28;01mas\u001b[39;00m err:\n",
      "File \u001b[1;32mindex.pyx:167\u001b[0m, in \u001b[0;36mpandas._libs.index.IndexEngine.get_loc\u001b[1;34m()\u001b[0m\n",
      "File \u001b[1;32mindex.pyx:196\u001b[0m, in \u001b[0;36mpandas._libs.index.IndexEngine.get_loc\u001b[1;34m()\u001b[0m\n",
      "File \u001b[1;32mpandas\\\\_libs\\\\hashtable_class_helper.pxi:7081\u001b[0m, in \u001b[0;36mpandas._libs.hashtable.PyObjectHashTable.get_item\u001b[1;34m()\u001b[0m\n",
      "File \u001b[1;32mpandas\\\\_libs\\\\hashtable_class_helper.pxi:7089\u001b[0m, in \u001b[0;36mpandas._libs.hashtable.PyObjectHashTable.get_item\u001b[1;34m()\u001b[0m\n",
      "\u001b[1;31mKeyError\u001b[0m: 'trip_time'",
      "\nThe above exception was the direct cause of the following exception:\n",
      "\u001b[1;31mKeyError\u001b[0m                                  Traceback (most recent call last)",
      "Cell \u001b[1;32mIn[10], line 2\u001b[0m\n\u001b[0;32m      1\u001b[0m \u001b[38;5;66;03m# Example usage\u001b[39;00m\n\u001b[1;32m----> 2\u001b[0m original_skewness, log_skewness \u001b[38;5;241m=\u001b[39m \u001b[43manalyze_column\u001b[49m\u001b[43m(\u001b[49m\u001b[43mdf\u001b[49m\u001b[43m,\u001b[49m\u001b[43m \u001b[49m\u001b[38;5;124;43m'\u001b[39;49m\u001b[38;5;124;43mtrip_time\u001b[39;49m\u001b[38;5;124;43m'\u001b[39;49m\u001b[43m)\u001b[49m\n\u001b[0;32m      3\u001b[0m plot_histograms(df, \u001b[38;5;124m'\u001b[39m\u001b[38;5;124mtrip_time\u001b[39m\u001b[38;5;124m'\u001b[39m, original_skewness, log_skewness)\n",
      "Cell \u001b[1;32mIn[4], line 3\u001b[0m, in \u001b[0;36manalyze_column\u001b[1;34m(df, column_name, z_threshold, iqr_factor)\u001b[0m\n\u001b[0;32m      1\u001b[0m \u001b[38;5;28;01mdef\u001b[39;00m \u001b[38;5;21manalyze_column\u001b[39m(df, column_name, z_threshold\u001b[38;5;241m=\u001b[39m\u001b[38;5;241m3\u001b[39m, iqr_factor\u001b[38;5;241m=\u001b[39m\u001b[38;5;241m1.5\u001b[39m):\n\u001b[0;32m      2\u001b[0m     \u001b[38;5;66;03m# Drop null values\u001b[39;00m\n\u001b[1;32m----> 3\u001b[0m     column_data \u001b[38;5;241m=\u001b[39m \u001b[43mdf\u001b[49m\u001b[43m[\u001b[49m\u001b[43mcolumn_name\u001b[49m\u001b[43m]\u001b[49m\u001b[38;5;241m.\u001b[39mdropna()\n\u001b[0;32m      5\u001b[0m     \u001b[38;5;66;03m# Calculate original skewness\u001b[39;00m\n\u001b[0;32m      6\u001b[0m     original_skewness \u001b[38;5;241m=\u001b[39m column_data\u001b[38;5;241m.\u001b[39mskew()\n",
      "File \u001b[1;32mc:\\Users\\Richard\\anaconda3\\envs\\pocketride\\lib\\site-packages\\pandas\\core\\frame.py:4102\u001b[0m, in \u001b[0;36mDataFrame.__getitem__\u001b[1;34m(self, key)\u001b[0m\n\u001b[0;32m   4100\u001b[0m \u001b[38;5;28;01mif\u001b[39;00m \u001b[38;5;28mself\u001b[39m\u001b[38;5;241m.\u001b[39mcolumns\u001b[38;5;241m.\u001b[39mnlevels \u001b[38;5;241m>\u001b[39m \u001b[38;5;241m1\u001b[39m:\n\u001b[0;32m   4101\u001b[0m     \u001b[38;5;28;01mreturn\u001b[39;00m \u001b[38;5;28mself\u001b[39m\u001b[38;5;241m.\u001b[39m_getitem_multilevel(key)\n\u001b[1;32m-> 4102\u001b[0m indexer \u001b[38;5;241m=\u001b[39m \u001b[38;5;28;43mself\u001b[39;49m\u001b[38;5;241;43m.\u001b[39;49m\u001b[43mcolumns\u001b[49m\u001b[38;5;241;43m.\u001b[39;49m\u001b[43mget_loc\u001b[49m\u001b[43m(\u001b[49m\u001b[43mkey\u001b[49m\u001b[43m)\u001b[49m\n\u001b[0;32m   4103\u001b[0m \u001b[38;5;28;01mif\u001b[39;00m is_integer(indexer):\n\u001b[0;32m   4104\u001b[0m     indexer \u001b[38;5;241m=\u001b[39m [indexer]\n",
      "File \u001b[1;32mc:\\Users\\Richard\\anaconda3\\envs\\pocketride\\lib\\site-packages\\pandas\\core\\indexes\\base.py:3812\u001b[0m, in \u001b[0;36mIndex.get_loc\u001b[1;34m(self, key)\u001b[0m\n\u001b[0;32m   3807\u001b[0m     \u001b[38;5;28;01mif\u001b[39;00m \u001b[38;5;28misinstance\u001b[39m(casted_key, \u001b[38;5;28mslice\u001b[39m) \u001b[38;5;129;01mor\u001b[39;00m (\n\u001b[0;32m   3808\u001b[0m         \u001b[38;5;28misinstance\u001b[39m(casted_key, abc\u001b[38;5;241m.\u001b[39mIterable)\n\u001b[0;32m   3809\u001b[0m         \u001b[38;5;129;01mand\u001b[39;00m \u001b[38;5;28many\u001b[39m(\u001b[38;5;28misinstance\u001b[39m(x, \u001b[38;5;28mslice\u001b[39m) \u001b[38;5;28;01mfor\u001b[39;00m x \u001b[38;5;129;01min\u001b[39;00m casted_key)\n\u001b[0;32m   3810\u001b[0m     ):\n\u001b[0;32m   3811\u001b[0m         \u001b[38;5;28;01mraise\u001b[39;00m InvalidIndexError(key)\n\u001b[1;32m-> 3812\u001b[0m     \u001b[38;5;28;01mraise\u001b[39;00m \u001b[38;5;167;01mKeyError\u001b[39;00m(key) \u001b[38;5;28;01mfrom\u001b[39;00m \u001b[38;5;21;01merr\u001b[39;00m\n\u001b[0;32m   3813\u001b[0m \u001b[38;5;28;01mexcept\u001b[39;00m \u001b[38;5;167;01mTypeError\u001b[39;00m:\n\u001b[0;32m   3814\u001b[0m     \u001b[38;5;66;03m# If we have a listlike key, _check_indexing_error will raise\u001b[39;00m\n\u001b[0;32m   3815\u001b[0m     \u001b[38;5;66;03m#  InvalidIndexError. Otherwise we fall through and re-raise\u001b[39;00m\n\u001b[0;32m   3816\u001b[0m     \u001b[38;5;66;03m#  the TypeError.\u001b[39;00m\n\u001b[0;32m   3817\u001b[0m     \u001b[38;5;28mself\u001b[39m\u001b[38;5;241m.\u001b[39m_check_indexing_error(key)\n",
      "\u001b[1;31mKeyError\u001b[0m: 'trip_time'"
     ]
    }
   ],
   "source": [
    "# Example usage\n",
    "original_skewness, log_skewness = analyze_column(df, 'trip_time')\n",
    "plot_histograms(df, 'trip_time', original_skewness, log_skewness)"
   ]
  },
  {
   "cell_type": "code",
   "execution_count": 19,
   "metadata": {},
   "outputs": [
    {
     "data": {
      "image/png": "[encoded data removed]",
      "text/plain": [
       "<Figure size 1200x600 with 2 Axes>"
      ]
     },
     "metadata": {},
     "output_type": "display_data"
    }
   ],
   "source": [
    "# Assuming df is your DataFrame\n",
    "\n",
    "\n",
    "# Plot histograms\n",
    "plt.figure(figsize=(12, 6))\n",
    "\n",
    "plt.subplot(1, 2, 1)\n",
    "plt.hist(df['trip_total'], bins=50, color='blue', alpha=0.7)\n",
    "plt.title('Trip Start Timestamp Histogram')\n",
    "plt.xlabel('Timestamp')\n",
    "plt.ylabel('Frequency')\n",
    "\n",
    "plt.subplot(1, 2, 2)\n",
    "plt.hist(df['start_day_of_week'], bins=50, color='green', alpha=0.7)\n",
    "plt.title('Trip End Timestamp Histogram')\n",
    "plt.xlabel('Timestamp')\n",
    "plt.ylabel('Frequency')\n",
    "\n",
    "plt.tight_layout()\n",
    "plt.show()"
   ]
  },
  {
   "cell_type": "code",
   "execution_count": null,
   "metadata": {},
   "outputs": [],
   "source": [
    "df['trip_total']"
   ]
  },
  {
   "cell_type": "code",
   "execution_count": 57,
   "metadata": {},
   "outputs": [
    {
     "data": {
      "text/plain": [
       "Index(['trip_id', 'trip_start_timestamp', 'trip_end_timestamp', 'trip_seconds',\n",
       "       'trip_miles', 'percent_time_chicago', 'percent_distance_chicago',\n",
       "       'pickup_census_tract', 'dropoff_census_tract', 'pickup_community_area',\n",
       "       'dropoff_community_area', 'fare', 'tip', 'additional_charges',\n",
       "       'trip_total', 'shared_trip_authorized', 'shared_trip_match',\n",
       "       'trips_pooled', 'pickup_centroid_latitude', 'pickup_centroid_longitude',\n",
       "       'pickup_centroid_location', 'dropoff_centroid_latitude',\n",
       "       'dropoff_centroid_longitude', 'dropoff_centroid_location',\n",
       "       'start_day_of_week', 'start_day_of_month', 'start_hour', 'start_minute',\n",
       "       'end_day_of_week', 'end_day_of_month', 'end_hour', 'end_minute',\n",
       "       'trip_total_zscore', 'trip_total_log', 'trip_total_log_zscore',\n",
       "       'IQR_outlier', 'IQR_trip_miles', 'Z_LOG_SCORE_trip_miles'],\n",
       "      dtype='object')"
      ]
     },
     "execution_count": 57,
     "metadata": {},
     "output_type": "execute_result"
    }
   ],
   "source": [
    "df.columns"
   ]
  },
  {
   "cell_type": "code",
   "execution_count": 34,
   "metadata": {},
   "outputs": [
    {
     "name": "stdout",
     "output_type": "stream",
     "text": [
      "IQR: 13.92\n"
     ]
    }
   ],
   "source": [
    "# Assuming df is your DataFrame\n",
    "trip_total = df['trip_total'].dropna()\n",
    "\n",
    "# Calculate IQR\n",
    "Q1 = trip_total.quantile(0.25)\n",
    "Q3 = trip_total.quantile(0.75)\n",
    "IQR = Q3 - Q1\n",
    "\n",
    "print(f\"IQR: {IQR}\")"
   ]
  },
  {
   "cell_type": "code",
   "execution_count": 35,
   "metadata": {},
   "outputs": [
    {
     "data": {
      "text/plain": [
       "np.int64(0)"
      ]
     },
     "execution_count": 35,
     "metadata": {},
     "output_type": "execute_result"
    }
   ],
   "source": [
    "trip_total.isnull().sum()"
   ]
  },
  {
   "cell_type": "code",
   "execution_count": 36,
   "metadata": {},
   "outputs": [
    {
     "name": "stdout",
     "output_type": "stream",
     "text": [
      "Null values in trip_total: 0\n"
     ]
    }
   ],
   "source": [
    "print(f\"Null values in trip_total: {trip_total.isnull().sum()}\")"
   ]
  },
  {
   "cell_type": "code",
   "execution_count": 37,
   "metadata": {},
   "outputs": [],
   "source": [
    "# Remove or fill null values\n",
    "trip_total = trip_total.dropna()  # or use trip_total.fillna(trip_total.mean()) to fill with mean\n",
    "\n",
    "# Recalculate z-scores\n",
    "z_scores = stats.zscore(trip_total)"
   ]
  },
  {
   "cell_type": "code",
   "execution_count": 38,
   "metadata": {},
   "outputs": [],
   "source": [
    "df['trip_total_zscore'] = z_scores"
   ]
  },
  {
   "cell_type": "code",
   "execution_count": 39,
   "metadata": {},
   "outputs": [
    {
     "data": {
      "text/html": [
       "<div>\n",
       "<style scoped>\n",
       "    .dataframe tbody tr th:only-of-type {\n",
       "        vertical-align: middle;\n",
       "    }\n",
       "\n",
       "    .dataframe tbody tr th {\n",
       "        vertical-align: top;\n",
       "    }\n",
       "\n",
       "    .dataframe thead th {\n",
       "        text-align: right;\n",
       "    }\n",
       "</style>\n",
       "<table border=\"1\" class=\"dataframe\">\n",
       "  <thead>\n",
       "    <tr style=\"text-align: right;\">\n",
       "      <th></th>\n",
       "      <th>trip_total</th>\n",
       "      <th>trip_total_zscore</th>\n",
       "    </tr>\n",
       "  </thead>\n",
       "  <tbody>\n",
       "    <tr>\n",
       "      <th>0</th>\n",
       "      <td>8.01</td>\n",
       "      <td>-0.879778</td>\n",
       "    </tr>\n",
       "    <tr>\n",
       "      <th>1</th>\n",
       "      <td>16.23</td>\n",
       "      <td>-0.381118</td>\n",
       "    </tr>\n",
       "    <tr>\n",
       "      <th>2</th>\n",
       "      <td>8.73</td>\n",
       "      <td>-0.836100</td>\n",
       "    </tr>\n",
       "    <tr>\n",
       "      <th>3</th>\n",
       "      <td>46.15</td>\n",
       "      <td>1.433953</td>\n",
       "    </tr>\n",
       "    <tr>\n",
       "      <th>4</th>\n",
       "      <td>5.65</td>\n",
       "      <td>-1.022945</td>\n",
       "    </tr>\n",
       "  </tbody>\n",
       "</table>\n",
       "</div>"
      ],
      "text/plain": [
       "   trip_total  trip_total_zscore\n",
       "0        8.01          -0.879778\n",
       "1       16.23          -0.381118\n",
       "2        8.73          -0.836100\n",
       "3       46.15           1.433953\n",
       "4        5.65          -1.022945"
      ]
     },
     "execution_count": 39,
     "metadata": {},
     "output_type": "execute_result"
    }
   ],
   "source": [
    "df[['trip_total', 'trip_total_zscore']].head()"
   ]
  },
  {
   "cell_type": "code",
   "execution_count": 43,
   "metadata": {},
   "outputs": [
    {
     "data": {
      "text/html": [
       "<div>\n",
       "<style scoped>\n",
       "    .dataframe tbody tr th:only-of-type {\n",
       "        vertical-align: middle;\n",
       "    }\n",
       "\n",
       "    .dataframe tbody tr th {\n",
       "        vertical-align: top;\n",
       "    }\n",
       "\n",
       "    .dataframe thead th {\n",
       "        text-align: right;\n",
       "    }\n",
       "</style>\n",
       "<table border=\"1\" class=\"dataframe\">\n",
       "  <thead>\n",
       "    <tr style=\"text-align: right;\">\n",
       "      <th></th>\n",
       "      <th>trip_total</th>\n",
       "      <th>trip_total_log</th>\n",
       "      <th>trip_total_log_zscore</th>\n",
       "    </tr>\n",
       "  </thead>\n",
       "  <tbody>\n",
       "    <tr>\n",
       "      <th>0</th>\n",
       "      <td>8.01</td>\n",
       "      <td>2.198335</td>\n",
       "      <td>-1.362411</td>\n",
       "    </tr>\n",
       "    <tr>\n",
       "      <th>1</th>\n",
       "      <td>16.23</td>\n",
       "      <td>2.846652</td>\n",
       "      <td>-0.231882</td>\n",
       "    </tr>\n",
       "    <tr>\n",
       "      <th>2</th>\n",
       "      <td>8.73</td>\n",
       "      <td>2.275214</td>\n",
       "      <td>-1.228350</td>\n",
       "    </tr>\n",
       "    <tr>\n",
       "      <th>3</th>\n",
       "      <td>46.15</td>\n",
       "      <td>3.853334</td>\n",
       "      <td>1.523560</td>\n",
       "    </tr>\n",
       "    <tr>\n",
       "      <th>4</th>\n",
       "      <td>5.65</td>\n",
       "      <td>1.894617</td>\n",
       "      <td>-1.892031</td>\n",
       "    </tr>\n",
       "  </tbody>\n",
       "</table>\n",
       "</div>"
      ],
      "text/plain": [
       "   trip_total  trip_total_log  trip_total_log_zscore\n",
       "0        8.01        2.198335              -1.362411\n",
       "1       16.23        2.846652              -0.231882\n",
       "2        8.73        2.275214              -1.228350\n",
       "3       46.15        3.853334               1.523560\n",
       "4        5.65        1.894617              -1.892031"
      ]
     },
     "execution_count": 43,
     "metadata": {},
     "output_type": "execute_result"
    }
   ],
   "source": [
    "# Assuming df is your DataFrame\n",
    "trip_total = df['trip_total']\n",
    "\n",
    "# Check for null values\n",
    "trip_total = trip_total.dropna()\n",
    "\n",
    "# Apply log transformation to reduce skewness\n",
    "trip_total_log = np.log1p(trip_total)  # log1p is used to handle zero values\n",
    "\n",
    "# Recalculate z-scores after transformation\n",
    "z_scores_log = stats.zscore(trip_total_log)\n",
    "\n",
    "# Add transformed trip_total and z-scores to the DataFrame\n",
    "df.loc[trip_total.index, 'trip_total_log'] = trip_total_log\n",
    "df.loc[trip_total.index, 'trip_total_log_zscore'] = z_scores_log\n",
    "\n",
    "# Verify the changes\n",
    "df[['trip_total', 'trip_total_log', 'trip_total_log_zscore']].head()"
   ]
  },
  {
   "cell_type": "code",
   "execution_count": 50,
   "metadata": {},
   "outputs": [
    {
     "name": "stdout",
     "output_type": "stream",
     "text": [
      "Original Skewness: 2.727455119558864\n",
      "Log-transformed Skewness: 0.40709005546840943\n"
     ]
    },
    {
     "data": {
      "image/png": "[encoded data removed]",
      "text/plain": [
       "<Figure size 1200x600 with 2 Axes>"
      ]
     },
     "metadata": {},
     "output_type": "display_data"
    }
   ],
   "source": [
    "# Assuming df is your DataFrame\n",
    "trip_total = df['trip_total'].dropna()\n",
    "\n",
    "# Apply log transformation\n",
    "trip_total_log = np.log1p(trip_total)  # log1p is used to handle zero values\n",
    "\n",
    "# Calculate skewness\n",
    "original_skewness = trip_total.skew()\n",
    "log_skewness = trip_total_log.skew()\n",
    "\n",
    "print(f\"Original Skewness: {original_skewness}\")\n",
    "print(f\"Log-transformed Skewness: {log_skewness}\")\n",
    "\n",
    "# Plot histograms\n",
    "plt.figure(figsize=(12, 6))\n",
    "\n",
    "plt.subplot(1, 2, 1)\n",
    "plt.hist(trip_total, bins=50, color='blue', alpha=0.7)\n",
    "plt.title('Original Trip Total Histogram')\n",
    "plt.xlabel('Trip Total')\n",
    "plt.ylabel('Frequency')\n",
    "\n",
    "plt.subplot(1, 2, 2)\n",
    "plt.hist(trip_total_log, bins=50, color='green', alpha=0.7)\n",
    "plt.title('Log-transformed Trip Total Histogram')\n",
    "plt.xlabel('Log(Trip Total)')\n",
    "plt.ylabel('Frequency')\n",
    "\n",
    "plt.tight_layout()\n",
    "plt.show()"
   ]
  },
  {
   "cell_type": "code",
   "execution_count": 52,
   "metadata": {},
   "outputs": [],
   "source": [
    "# Calculate IQR for log-transformed trip_total\n",
    "Q1 = trip_total_log.quantile(0.25)\n",
    "Q3 = trip_total_log.quantile(0.75)\n",
    "IQR = Q3 - Q1\n",
    "\n",
    "# Determine bounds for outliers\n",
    "lower_bound = Q1 - 1.5 * IQR\n",
    "upper_bound = Q3 + 1.5 * IQR\n",
    "\n",
    "# Flag outliers\n",
    "df['IQR_outlier'] = (trip_total_log < lower_bound) | (trip_total_log > upper_bound)"
   ]
  },
  {
   "cell_type": "code",
   "execution_count": 53,
   "metadata": {},
   "outputs": [
    {
     "data": {
      "text/html": [
       "<div>\n",
       "<style scoped>\n",
       "    .dataframe tbody tr th:only-of-type {\n",
       "        vertical-align: middle;\n",
       "    }\n",
       "\n",
       "    .dataframe tbody tr th {\n",
       "        vertical-align: top;\n",
       "    }\n",
       "\n",
       "    .dataframe thead th {\n",
       "        text-align: right;\n",
       "    }\n",
       "</style>\n",
       "<table border=\"1\" class=\"dataframe\">\n",
       "  <thead>\n",
       "    <tr style=\"text-align: right;\">\n",
       "      <th></th>\n",
       "      <th>trip_total</th>\n",
       "      <th>trip_total_log</th>\n",
       "      <th>trip_total_log_zscore</th>\n",
       "      <th>IQR_outlier</th>\n",
       "    </tr>\n",
       "  </thead>\n",
       "  <tbody>\n",
       "    <tr>\n",
       "      <th>0</th>\n",
       "      <td>8.01</td>\n",
       "      <td>2.198335</td>\n",
       "      <td>-1.362411</td>\n",
       "      <td>False</td>\n",
       "    </tr>\n",
       "    <tr>\n",
       "      <th>1</th>\n",
       "      <td>16.23</td>\n",
       "      <td>2.846652</td>\n",
       "      <td>-0.231882</td>\n",
       "      <td>False</td>\n",
       "    </tr>\n",
       "    <tr>\n",
       "      <th>2</th>\n",
       "      <td>8.73</td>\n",
       "      <td>2.275214</td>\n",
       "      <td>-1.228350</td>\n",
       "      <td>False</td>\n",
       "    </tr>\n",
       "    <tr>\n",
       "      <th>3</th>\n",
       "      <td>46.15</td>\n",
       "      <td>3.853334</td>\n",
       "      <td>1.523560</td>\n",
       "      <td>False</td>\n",
       "    </tr>\n",
       "    <tr>\n",
       "      <th>4</th>\n",
       "      <td>5.65</td>\n",
       "      <td>1.894617</td>\n",
       "      <td>-1.892031</td>\n",
       "      <td>False</td>\n",
       "    </tr>\n",
       "  </tbody>\n",
       "</table>\n",
       "</div>"
      ],
      "text/plain": [
       "   trip_total  trip_total_log  trip_total_log_zscore IQR_outlier\n",
       "0        8.01        2.198335              -1.362411       False\n",
       "1       16.23        2.846652              -0.231882       False\n",
       "2        8.73        2.275214              -1.228350       False\n",
       "3       46.15        3.853334               1.523560       False\n",
       "4        5.65        1.894617              -1.892031       False"
      ]
     },
     "execution_count": 53,
     "metadata": {},
     "output_type": "execute_result"
    }
   ],
   "source": [
    "df[['trip_total', 'trip_total_log', 'trip_total_log_zscore','IQR_outlier']].head()"
   ]
  }
 ],
 "metadata": {
  "kernelspec": {
   "display_name": "pocketride",
   "language": "python",
   "name": "python3"
  },
  "language_info": {
   "codemirror_mode": {
    "name": "ipython",
    "version": 3
   },
   "file_extension": ".py",
   "mimetype": "text/x-python",
   "name": "python",
   "nbconvert_exporter": "python",
   "pygments_lexer": "ipython3",
   "version": "3.10.15"
  }
 },
 "nbformat": 4,
 "nbformat_minor": 2
}
